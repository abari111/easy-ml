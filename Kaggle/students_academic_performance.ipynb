{
 "cells": [
  {
   "cell_type": "code",
   "execution_count": 25,
   "id": "0c220538",
   "metadata": {},
   "outputs": [],
   "source": [
    "import pandas as pd\n",
    "import seaborn as sn"
   ]
  },
  {
   "cell_type": "markdown",
   "id": "af7804f1",
   "metadata": {},
   "source": [
    "- What is the effect of sleep hours on Academic performance ?\n",
    "- What is the relationship between having many friends and Academic performances, and also Sleep hours ?\n",
    "- What is the effect of depression status and taking notes ?"
   ]
  },
  {
   "cell_type": "markdown",
   "id": "0ce4466c",
   "metadata": {},
   "source": [
    "### 1. Load Dataset"
   ]
  },
  {
   "cell_type": "code",
   "execution_count": 2,
   "id": "11718c2e",
   "metadata": {},
   "outputs": [],
   "source": [
    "data = pd.read_csv('datasets/CSE_student_performances.csv')"
   ]
  },
  {
   "cell_type": "code",
   "execution_count": 3,
   "id": "befabc8b",
   "metadata": {
    "scrolled": true
   },
   "outputs": [
    {
     "data": {
      "text/html": [
       "<div>\n",
       "<style scoped>\n",
       "    .dataframe tbody tr th:only-of-type {\n",
       "        vertical-align: middle;\n",
       "    }\n",
       "\n",
       "    .dataframe tbody tr th {\n",
       "        vertical-align: top;\n",
       "    }\n",
       "\n",
       "    .dataframe thead th {\n",
       "        text-align: right;\n",
       "    }\n",
       "</style>\n",
       "<table border=\"1\" class=\"dataframe\">\n",
       "  <thead>\n",
       "    <tr style=\"text-align: right;\">\n",
       "      <th></th>\n",
       "      <th>Age</th>\n",
       "      <th>Gender</th>\n",
       "      <th>AcademicPerformance</th>\n",
       "      <th>TakingNoteInClass</th>\n",
       "      <th>DepressionStatus</th>\n",
       "      <th>FaceChallangesToCompleteAcademicTask</th>\n",
       "      <th>LikePresentation</th>\n",
       "      <th>SleepPerDayHours</th>\n",
       "      <th>NumberOfFriend</th>\n",
       "      <th>LikeNewThings</th>\n",
       "    </tr>\n",
       "  </thead>\n",
       "  <tbody>\n",
       "    <tr>\n",
       "      <th>0</th>\n",
       "      <td>23</td>\n",
       "      <td>Male</td>\n",
       "      <td>Average</td>\n",
       "      <td>No</td>\n",
       "      <td>Sometimes</td>\n",
       "      <td>Yes</td>\n",
       "      <td>Yes</td>\n",
       "      <td>12</td>\n",
       "      <td>NaN</td>\n",
       "      <td>Yes</td>\n",
       "    </tr>\n",
       "    <tr>\n",
       "      <th>1</th>\n",
       "      <td>23</td>\n",
       "      <td>Male</td>\n",
       "      <td>Excellent</td>\n",
       "      <td>Sometimes</td>\n",
       "      <td>Yes</td>\n",
       "      <td>No</td>\n",
       "      <td>Yes</td>\n",
       "      <td>8</td>\n",
       "      <td>80.0</td>\n",
       "      <td>Yes</td>\n",
       "    </tr>\n",
       "    <tr>\n",
       "      <th>2</th>\n",
       "      <td>24</td>\n",
       "      <td>Male</td>\n",
       "      <td>Average</td>\n",
       "      <td>No</td>\n",
       "      <td>Sometimes</td>\n",
       "      <td>Sometimes</td>\n",
       "      <td>No</td>\n",
       "      <td>8</td>\n",
       "      <td>10.0</td>\n",
       "      <td>Yes</td>\n",
       "    </tr>\n",
       "    <tr>\n",
       "      <th>3</th>\n",
       "      <td>20</td>\n",
       "      <td>Female</td>\n",
       "      <td>Good</td>\n",
       "      <td>Yes</td>\n",
       "      <td>Sometimes</td>\n",
       "      <td>Yes</td>\n",
       "      <td>No</td>\n",
       "      <td>5</td>\n",
       "      <td>15.0</td>\n",
       "      <td>Yes</td>\n",
       "    </tr>\n",
       "    <tr>\n",
       "      <th>4</th>\n",
       "      <td>24</td>\n",
       "      <td>Female</td>\n",
       "      <td>Average</td>\n",
       "      <td>Yes</td>\n",
       "      <td>Yes</td>\n",
       "      <td>Yes</td>\n",
       "      <td>Yes</td>\n",
       "      <td>5</td>\n",
       "      <td>2.0</td>\n",
       "      <td>Yes</td>\n",
       "    </tr>\n",
       "  </tbody>\n",
       "</table>\n",
       "</div>"
      ],
      "text/plain": [
       "   Age   Gender AcademicPerformance TakingNoteInClass DepressionStatus  \\\n",
       "0    23    Male             Average                No        Sometimes   \n",
       "1    23    Male           Excellent         Sometimes              Yes   \n",
       "2    24    Male             Average                No        Sometimes   \n",
       "3    20  Female                Good               Yes        Sometimes   \n",
       "4    24  Female             Average               Yes              Yes   \n",
       "\n",
       "  FaceChallangesToCompleteAcademicTask LikePresentation  SleepPerDayHours  \\\n",
       "0                                  Yes              Yes                12   \n",
       "1                                   No              Yes                 8   \n",
       "2                            Sometimes               No                 8   \n",
       "3                                  Yes               No                 5   \n",
       "4                                  Yes              Yes                 5   \n",
       "\n",
       "   NumberOfFriend LikeNewThings  \n",
       "0             NaN           Yes  \n",
       "1            80.0           Yes  \n",
       "2            10.0           Yes  \n",
       "3            15.0           Yes  \n",
       "4             2.0           Yes  "
      ]
     },
     "execution_count": 3,
     "metadata": {},
     "output_type": "execute_result"
    }
   ],
   "source": [
    "data.head()"
   ]
  },
  {
   "cell_type": "code",
   "execution_count": null,
   "id": "48caa700",
   "metadata": {},
   "outputs": [],
   "source": []
  },
  {
   "cell_type": "code",
   "execution_count": 55,
   "id": "580e2e40",
   "metadata": {},
   "outputs": [
    {
     "data": {
      "text/plain": [
       "0       Male\n",
       "1       Male\n",
       "2       Male\n",
       "3     Female\n",
       "4     Female\n",
       "       ...  \n",
       "94      Male\n",
       "95    Female\n",
       "96      Male\n",
       "97      Male\n",
       "98    Female\n",
       "Name: Gender, Length: 99, dtype: object"
      ]
     },
     "execution_count": 55,
     "metadata": {},
     "output_type": "execute_result"
    }
   ],
   "source": [
    "data['Gender']"
   ]
  },
  {
   "cell_type": "code",
   "execution_count": 31,
   "id": "a89eebc1",
   "metadata": {
    "scrolled": true
   },
   "outputs": [
    {
     "name": "stdout",
     "output_type": "stream",
     "text": [
      "Male:  7.25\n",
      "Female:  6.023255813953488\n"
     ]
    }
   ],
   "source": [
    "male_data = data[ data['Gender'] == \"Male\"]\n",
    "female_data = data[ data['Gender'] == \"Female\"]\n",
    "male_shm = male_data['SleepPerDayHours'].mean()\n",
    "female_shm = female_data['SleepPerDayHours'].mean()\n",
    "\n",
    "# shm for sleep hours mean\n",
    "print('Male: ', male_shm)\n",
    "print('Female: ', female_shm)"
   ]
  },
  {
   "cell_type": "code",
   "execution_count": 64,
   "id": "8dc18fba",
   "metadata": {
    "scrolled": false
   },
   "outputs": [
    {
     "data": {
      "image/png": "[encoded data removed]",
      "text/plain": [
       "<Figure size 640x480 with 1 Axes>"
      ]
     },
     "metadata": {},
     "output_type": "display_data"
    }
   ],
   "source": [
    "ax = sn.histplot(female_data['SleepPerDayHours'])"
   ]
  },
  {
   "cell_type": "code",
   "execution_count": null,
   "id": "33e2304a",
   "metadata": {},
   "outputs": [],
   "source": []
  },
  {
   "cell_type": "code",
   "execution_count": null,
   "id": "2b425429",
   "metadata": {},
   "outputs": [],
   "source": []
  }
 ],
 "metadata": {
  "kernelspec": {
   "display_name": "Python 3 (ipykernel)",
   "language": "python",
   "name": "python3"
  },
  "language_info": {
   "codemirror_mode": {
    "name": "ipython",
    "version": 3
   },
   "file_extension": ".py",
   "mimetype": "text/x-python",
   "name": "python",
   "nbconvert_exporter": "python",
   "pygments_lexer": "ipython3",
   "version": "3.11.5"
  }
 },
 "nbformat": 4,
 "nbformat_minor": 5
}
