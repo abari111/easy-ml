{
 "cells": [
  {
   "cell_type": "code",
   "execution_count": 104,
   "id": "b5723868",
   "metadata": {},
   "outputs": [
    {
     "data": {
      "text/plain": [
       "<torch._C.Generator at 0x206d98be5b0>"
      ]
     },
     "execution_count": 104,
     "metadata": {},
     "output_type": "execute_result"
    }
   ],
   "source": [
    "import os\n",
    "\n",
    "import torch\n",
    "from torch.utils.data import Dataset, DataLoader\n",
    "from torchvision.transforms import ToTensor, Resize, transforms, Compose\n",
    "from torchvision.models import mobilenet_v3_small, MobileNet_V3_Small_Weights, vgg16, VGG16_Weights\n",
    "import pandas as pd\n",
    "from PIL import Image\n",
    "import matplotlib.pyplot as plt\n",
    "\n",
    "torch.manual_seed(1234)"
   ]
  },
  {
   "cell_type": "code",
   "execution_count": 100,
   "id": "6f982b15",
   "metadata": {
    "scrolled": true
   },
   "outputs": [
    {
     "name": "stdout",
     "output_type": "stream",
     "text": [
      "993\n"
     ]
    }
   ],
   "source": [
    "df = pd.read_csv('Dr.Eye/datasets/ret_annot.csv')\n",
    "filenames = df['id_code']\n",
    "from pandas import DataFrame\n",
    "\n",
    "def balance_data(df:DataFrame, n_samples:int=200, save:bool=True, dir_path:str=None) -> DataFrame:\n",
    "    \"\"\"Balance the dataset with n_samples of each classes samples \"\"\"\n",
    "    data_per_labels = {}\n",
    "    for label in range(n_classes):\n",
    "        data = df[df['diagnosis'] == label]\n",
    "        data_per_labels[label] = data[:n_samples]\n",
    "\n",
    "    data_stats = {i: len(data) for i, data in data_per_labels.items() }\n",
    "    balanced_data = pd.concat(data_per_labels.values(), ignore_index=True)\n",
    "    \n",
    "    if save:\n",
    "        file_name = f'annot_{n_samples}.csv'\n",
    "        if dir_path is None:\n",
    "            dir_path = ''\n",
    "        file_path = os.path.join(dir_path, file_name)\n",
    "        \n",
    "        balanced_data.to_csv(file_path, index=False)\n",
    "    \n",
    "    return balanced_data\n",
    "\n",
    "data = balance_data(df)\n",
    "print(len(data))"
   ]
  },
  {
   "cell_type": "code",
   "execution_count": 82,
   "id": "979602e7",
   "metadata": {},
   "outputs": [
    {
     "name": "stdout",
     "output_type": "stream",
     "text": [
      "Counter({0: 1805, 2: 999, 1: 370, 4: 295, 3: 193})\n"
     ]
    }
   ],
   "source": [
    "from collections import Counter\n",
    "import numpy as np\n",
    "\n",
    "counter = Counter(labels.to_list())\n",
    "data_per_labels = np.array(list(counter.values()))\n",
    "# plt.bar(range(len(data_per_labels)), data_per_labels)\n",
    "print(counter)"
   ]
  },
  {
   "cell_type": "code",
   "execution_count": 121,
   "id": "f8fef3ef",
   "metadata": {},
   "outputs": [],
   "source": [
    "class RetDataset(Dataset):\n",
    "    \"\"\"load retinopathy dataset\"\"\"\n",
    "    def __init__(self,d_path:str, annot_path:str=None, transforms=None) -> None:\n",
    "        self.annots = pd.read_csv(annot_path)\n",
    "        self.d_path = d_path\n",
    "        self.transforms = transforms\n",
    "    \n",
    "    def __len__(self, ) -> int:\n",
    "        return len(self.annots)\n",
    "    \n",
    "    def __getitem__(self, idx)->torch.Tensor:\n",
    "        filename, label = self.annots.iloc[idx]\n",
    "        file_path = os.path.join(self.d_path, filename + '.png')\n",
    "        img = Image.open(file_path)\n",
    "        \n",
    "        if self.transforms:\n",
    "            img_tensor = self.transforms(img)\n",
    "        else:\n",
    "            img_tensor = ToTensor()(img) \n",
    "        \n",
    "        return img_tensor, torch.tensor(label)"
   ]
  },
  {
   "cell_type": "code",
   "execution_count": 70,
   "id": "2d62868d",
   "metadata": {},
   "outputs": [],
   "source": [
    "from torch.nn import functional as F\n",
    "import torch.nn as nn\n",
    "\n",
    "class Net(nn.Module):\n",
    "    \"\"\"Custom network for retinopathy detection\"\"\"\n",
    "    def __init__(self, in_c:int, out_c:int, nb_cl:int=5):\n",
    "        super().__init__()\n",
    "        self.features = nn.Sequential(nn.Conv2d(in_c, out_c, 3), \n",
    "        nn.ReLU(),\n",
    "        nn.MaxPool2d(2, 2), \n",
    "        nn.Conv2d(out_c, 64, 3),\n",
    "        nn.ReLU(),\n",
    "        nn.MaxPool2d(2, 2), )\n",
    "        \n",
    "        self.classifier = nn.Sequential(nn.Linear(246016, 1000), nn.Linear(1000, nb_cl))\n",
    "\n",
    "    def forward(self, x):\n",
    "        x = self.features(x)\n",
    "        x = x.view(-1, 246016)\n",
    "        x = self.classifier(x)\n",
    "        return x"
   ]
  },
  {
   "cell_type": "code",
   "execution_count": 71,
   "id": "aaa9b938",
   "metadata": {},
   "outputs": [],
   "source": [
    "model = Net(3, 64)"
   ]
  },
  {
   "cell_type": "code",
   "execution_count": 77,
   "id": "d84cc993",
   "metadata": {},
   "outputs": [],
   "source": [
    "tmp = model.features[-1]"
   ]
  },
  {
   "cell_type": "code",
   "execution_count": 101,
   "id": "bfeda377",
   "metadata": {},
   "outputs": [],
   "source": [
    "# configs\n",
    "dataset_path = 'Dr.Eye/datasets/ret_dataset/'\n",
    "annot_path = 'annot_200.csv'\n",
    "n_classes = 5"
   ]
  },
  {
   "cell_type": "code",
   "execution_count": 102,
   "id": "a476458c",
   "metadata": {},
   "outputs": [],
   "source": [
    "# splitting the dataset\n",
    "transforms = Compose([ToTensor(), Resize((256, 256))])\n",
    "dataset = RetDataset(dataset_path, annot_path, transforms)\n",
    "\n",
    "train_dataset, test_dataset = torch.utils.data.random_split(dataset, [0.8, 0.2])\n",
    "\n",
    "train_dataloader = DataLoader(train_dataset, batch_size=16 ,shuffle=True)\n",
    "test_dataloader = DataLoader(test_dataset, batch_size=16)\n",
    "dataloader = DataLoader(dataset, batch_size=16 ,shuffle=True) "
   ]
  },
  {
   "cell_type": "code",
   "execution_count": 128,
   "id": "fa43f0be",
   "metadata": {},
   "outputs": [],
   "source": [
    "# hyperparameters\n",
    "lr = 0.01\n",
    "epochs = 10\n",
    "device = 'cuda' if torch.cuda.is_available() else 'cpu'\n",
    "def train(model, dataloader, criterion, optimizer, save=True, checkpt_path=None) -> None:\n",
    "    \"\"\"train model and save it if save is true\"\"\"\n",
    "    model.train()\n",
    "    model.to(device)\n",
    "    checkpt = {}\n",
    "    for epoch in range(epochs):\n",
    "        acc = 0\n",
    "        for x, y in dataloader:\n",
    "            x.to(device)\n",
    "            y.to(device)\n",
    "            y_pred = model(x)\n",
    "            loss = criterion(y_pred, y.flatten())\n",
    "            loss.backward()\n",
    "            acc += (y_pred.argmax(dim=1) == y.flatten()).sum()\n",
    "            optimizer.zero_grad()\n",
    "            optimizer.step()\n",
    "        \n",
    "        if epoch%100 == 0 and save:\n",
    "            checkpt['model_st_dict'] = model.state_dict()\n",
    "            checkpt['acc'] = acc\n",
    "            checkpt['loss'] = loss\n",
    "            if checkpt_path is None:\n",
    "                checkpt_path = ''\n",
    "            checkpt_file_name =  f'checkpoint_{epoch}.pth'\n",
    "            checkpt_file_path = os.path.join(checkpt_path, checkpt_file_name)\n",
    "            torch.save(checkpt, checkpt_file_path)\n",
    "            \n",
    "        print(f'{epoch} epochs: {loss.item()} acc = {acc/(len(dataloader)*16)}')"
   ]
  },
  {
   "cell_type": "code",
   "execution_count": 221,
   "id": "4f95d655",
   "metadata": {},
   "outputs": [],
   "source": [
    "class GenRetSample():\n",
    "    \"\"\" Generate randomly dataset sample: img, target\"\"\"\n",
    "    def __init__(self, dataset):\n",
    "        self.dataset = dataset\n",
    "        self.index = 0\n",
    "    \n",
    "    def __iter__(self, ):\n",
    "        return self\n",
    "    \n",
    "    def __next__(self):\n",
    "        if len(self.dataset) > self.index:\n",
    "            self.index += 1\n",
    "            return dataset[self.index]\n",
    "        else :\n",
    "            raise StopIteration()\n",
    "    \n"
   ]
  },
  {
   "cell_type": "code",
   "execution_count": 229,
   "id": "ade22ea2",
   "metadata": {},
   "outputs": [],
   "source": [
    "dataset = RetDataset(dataset_path, annot_path, transforms)\n",
    "gen = GenRetSample(dataset)\n",
    "img, lab = next(gen)\n",
    "x_1 = img.unsqueeze(dim=0)\n",
    "with torch.no_grad():\n",
    "    y_1 = model(x_1)\n",
    "    print(y_1.argmax(dim=1), lab)"
   ]
  },
  {
   "cell_type": "code",
   "execution_count": 107,
   "id": "2910aa2b",
   "metadata": {},
   "outputs": [],
   "source": [
    "# load mobilenet v3\n",
    "def get_mobilenet_v3(n_classes:int=5, weights=MobileNet_V3_Small_Weights.IMAGENET1K_V1) -> torch.nn.Module:\n",
    "    \"\"\"Return mobilenet_v3 model with frozen features layers\"\"\"\n",
    "    model_small = mobilenet_v3_small(weights=weights)\n",
    "    model_small.classifier[-1] = nn.Linear(in_features=1024, out_features=5)\n",
    "\n",
    "    # deactivate gradient computation the features layers\n",
    "    for param in model_small.features.parameters():\n",
    "        param.requires_grad = False\n",
    "    \n",
    "    return model_small"
   ]
  },
  {
   "cell_type": "code",
   "execution_count": 35,
   "id": "c9d9dade",
   "metadata": {},
   "outputs": [],
   "source": [
    "def get_vgg16(n_classes:int=5, weights=VGG16_Weights.IMAGENET1K_V1) -> torch.nn.Module:\n",
    "    \"\"\"Return VGG16 model with frozen features layers\"\"\"\n",
    "    vgg_model = vgg16(weights=weights)\n",
    "    vgg_model.classifier[-1] = torch.nn.Linear(in_features=4096, out_features=n_classes)\n",
    "\n",
    "    for param in vgg_model.features.parameters():\n",
    "        param.requires_grad = False\n",
    "    \n",
    "    return vgg_model"
   ]
  },
  {
   "cell_type": "code",
   "execution_count": 112,
   "id": "22d1e2d2",
   "metadata": {},
   "outputs": [],
   "source": [
    "# Data preparation for mobilenet\n",
    "transform = transforms.Compose([\n",
    "    transforms.Resize(256),\n",
    "    transforms.CenterCrop(224),\n",
    "    transforms.ToTensor(),\n",
    "    transforms.Normalize(mean=[0.485, 0.456, 0.406], std=[0.229, 0.224, 0.225]),\n",
    "])\n",
    "dataset_pretrained = RetDataset(dataset_path, annot_path)\n",
    "dataloader_pretrained = DataLoader(dataset_mobilenet, batch_size=16, shuffle=True)"
   ]
  },
  {
   "cell_type": "code",
   "execution_count": 117,
   "id": "93bf3011",
   "metadata": {},
   "outputs": [
    {
     "data": {
      "text/plain": [
       "(tensor([[0.0047, 0.1146, 0.0971, 0.0120, 0.1415]], grad_fn=<AddmmBackward0>),\n",
       " tensor(0))"
      ]
     },
     "execution_count": 117,
     "metadata": {},
     "output_type": "execute_result"
    }
   ],
   "source": [
    "model = get_mobilenet_v3()\n",
    "x, _ = dataset_pretrained[0]\n",
    "x = x.unsqueeze(dim=0)\n",
    "model(x), _"
   ]
  },
  {
   "cell_type": "code",
   "execution_count": 115,
   "id": "22e86a18",
   "metadata": {
    "scrolled": false
   },
   "outputs": [],
   "source": [
    "criterion = nn.CrossEntropyLoss()\n",
    "optimizer = torch.optim.Adam(model.parameters(), lr=lr)\n",
    "train(model, dataloader_pretrained, criterion, optimizer)"
   ]
  },
  {
   "cell_type": "code",
   "execution_count": 110,
   "id": "e4119a36",
   "metadata": {},
   "outputs": [],
   "source": [
    "@torch.no_grad\n",
    "def test(model, dataloader_test):\n",
    "    model.eval()\n",
    "    acc = 0\n",
    "    data_size = len(test_dataloader.dataset)\n",
    "    for x, y in dataloader_test:\n",
    "        y_pred = model(x) \n",
    "        acc += (y_pred.argmax(dim=1) == y).sum()\n",
    "    print(f\"test accuracy: {acc/data_size}\")"
   ]
  },
  {
   "cell_type": "code",
   "execution_count": 111,
   "id": "6a6b93c4",
   "metadata": {},
   "outputs": [
    {
     "name": "stdout",
     "output_type": "stream",
     "text": [
      "test accuracy: 0.21717171370983124\n"
     ]
    }
   ],
   "source": [
    "test(model, test_dataloader)"
   ]
  },
  {
   "cell_type": "code",
   "execution_count": 63,
   "id": "036f6cf9",
   "metadata": {},
   "outputs": [
    {
     "data": {
      "text/plain": [
       "732"
      ]
     },
     "execution_count": 63,
     "metadata": {},
     "output_type": "execute_result"
    }
   ],
   "source": [
    "len(test_dataloader.dataset)"
   ]
  },
  {
   "cell_type": "code",
   "execution_count": null,
   "id": "2eb6aa25",
   "metadata": {},
   "outputs": [],
   "source": []
  },
  {
   "cell_type": "code",
   "execution_count": null,
   "id": "50177888",
   "metadata": {},
   "outputs": [],
   "source": [
    "# Save a checkpoint during training\n",
    "checkpoint = {\n",
    "    'epoch': epoch,\n",
    "    'model_state_dict': model.state_dict(),\n",
    "    'optimizer_state_dict': optimizer.state_dict(),\n",
    "    'loss': loss,\n",
    "}\n",
    "\n",
    "torch.save(checkpoint, 'checkpoint.pth')\n",
    "\n",
    "# Load a checkpoint\n",
    "checkpoint = torch.load('checkpoint.pth')\n",
    "model.load_state_dict(checkpoint['model_state_dict'])\n",
    "optimizer.load_state_dict(checkpoint['optimizer_state_dict'])\n",
    "epoch = checkpoint['epoch']\n",
    "loss = checkpoint['loss']"
   ]
  },
  {
   "cell_type": "code",
   "execution_count": 116,
   "id": "c53b522d",
   "metadata": {},
   "outputs": [],
   "source": [
    "def load_model(checkpoint_path=None, arch='vgg'):\n",
    "    model_checkpt = torch.load(checkpoint_path)\n",
    "    return model_checkpt"
   ]
  }
 ],
 "metadata": {
  "kernelspec": {
   "display_name": "Python 3 (ipykernel)",
   "language": "python",
   "name": "python3"
  },
  "language_info": {
   "codemirror_mode": {
    "name": "ipython",
    "version": 3
   },
   "file_extension": ".py",
   "mimetype": "text/x-python",
   "name": "python",
   "nbconvert_exporter": "python",
   "pygments_lexer": "ipython3",
   "version": "3.11.5"
  }
 },
 "nbformat": 4,
 "nbformat_minor": 5
}
